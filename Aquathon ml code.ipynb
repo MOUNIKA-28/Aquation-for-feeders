{
 "cells": [
  {
   "cell_type": "markdown",
   "id": "8c4d1d79",
   "metadata": {},
   "source": [
    "# Aquathon ML"
   ]
  },
  {
   "cell_type": "code",
   "execution_count": 991,
   "id": "d8bf9d4c",
   "metadata": {},
   "outputs": [],
   "source": [
    "import numpy as np\n",
    "import pandas as pd\n",
    "import matplotlib.pyplot as plt\n",
    "import math"
   ]
  },
  {
   "cell_type": "code",
   "execution_count": 992,
   "id": "bf0a2124",
   "metadata": {},
   "outputs": [
    {
     "name": "stdout",
     "output_type": "stream",
     "text": [
      "     Day  Max Temp  Min Temp  Mean Temp  Population  Season   Feed\n",
      "0      1      29.0      19.0       24.0      100000       0  1.500\n",
      "1      2      31.0      21.0       26.0      100000       0  2.000\n",
      "2      3      30.0      21.0       25.5      100000       0  2.500\n",
      "3      4      32.0      17.0       24.5      100000       0  3.000\n",
      "4      5      31.0      14.0       22.5      100000       0  3.500\n",
      "..   ...       ...       ...        ...         ...     ...    ...\n",
      "415  101      42.1      31.2       36.3       50000       1  6.825\n",
      "416  102      40.9      31.1       35.3       50000       1  6.500\n",
      "417  103      40.1      30.3       34.6       50000       1  6.375\n",
      "418  104      40.8      31.4       35.4       50000       1  6.375\n",
      "419  105      41.7      31.0       35.7       50000       1  6.500\n",
      "\n",
      "[420 rows x 7 columns]\n"
     ]
    }
   ],
   "source": [
    "data=pd.read_excel(\"hybride.xlsx\")\n",
    "print(data)"
   ]
  },
  {
   "cell_type": "code",
   "execution_count": 993,
   "id": "63d21ada",
   "metadata": {},
   "outputs": [],
   "source": [
    "# data=data.drop('Max Temp',axis=1)\n",
    "# data=data.drop('Min Temp',axis=1)"
   ]
  },
  {
   "cell_type": "code",
   "execution_count": 994,
   "id": "f8a37235",
   "metadata": {},
   "outputs": [
    {
     "name": "stdout",
     "output_type": "stream",
     "text": [
      "     Day  Max Temp  Min Temp  Mean Temp  Population  Season   Feed\n",
      "0      1      29.0      19.0       24.0      100000       0  1.500\n",
      "1      2      31.0      21.0       26.0      100000       0  2.000\n",
      "2      3      30.0      21.0       25.5      100000       0  2.500\n",
      "3      4      32.0      17.0       24.5      100000       0  3.000\n",
      "4      5      31.0      14.0       22.5      100000       0  3.500\n",
      "..   ...       ...       ...        ...         ...     ...    ...\n",
      "415  101      42.1      31.2       36.3       50000       1  6.825\n",
      "416  102      40.9      31.1       35.3       50000       1  6.500\n",
      "417  103      40.1      30.3       34.6       50000       1  6.375\n",
      "418  104      40.8      31.4       35.4       50000       1  6.375\n",
      "419  105      41.7      31.0       35.7       50000       1  6.500\n",
      "\n",
      "[420 rows x 7 columns]\n"
     ]
    }
   ],
   "source": [
    "print(data)"
   ]
  },
  {
   "cell_type": "code",
   "execution_count": 995,
   "id": "9306593f",
   "metadata": {},
   "outputs": [],
   "source": [
    "x=data.iloc[:,:-1].values\n",
    "y=data.iloc[:,-1].values\n",
    "#print(x,y)"
   ]
  },
  {
   "cell_type": "code",
   "execution_count": 996,
   "id": "13c16ea0",
   "metadata": {},
   "outputs": [],
   "source": [
    "# from sklearn.preprocessing import StandardScaler\n",
    "# sc=StandardScaler()\n",
    "# x=sc.fit_transform(x)\n",
    "# print(x)"
   ]
  },
  {
   "cell_type": "code",
   "execution_count": 997,
   "id": "cc9c5af2",
   "metadata": {},
   "outputs": [],
   "source": [
    "from sklearn.model_selection import train_test_split\n",
    "x_train,x_test,y_train,y_test=train_test_split(x,y,test_size=0.2,random_state=0)"
   ]
  },
  {
   "cell_type": "code",
   "execution_count": 998,
   "id": "5a2b151a",
   "metadata": {},
   "outputs": [
    {
     "data": {
      "text/plain": [
       "DecisionTreeRegressor()"
      ]
     },
     "execution_count": 998,
     "metadata": {},
     "output_type": "execute_result"
    }
   ],
   "source": [
    "# from sklearn.linear_model import LinearRegression   ####       Linear regression\n",
    "# reg=LinearRegression()\n",
    "# reg.fit(x_train,y_train)\n",
    "# from sklearn.preprocessing import PolynomialFeatures\n",
    "# poly_reg = PolynomialFeatures(degree=4)\n",
    "# X_poly = poly_reg.fit_transform(x_train)\n",
    "# pol_reg = LinearRegression()\n",
    "# pol_reg.fit(X_poly, y_train)\n",
    "\n",
    "from sklearn.tree import DecisionTreeRegressor\n",
    "\n",
    "r=DecisionTreeRegressor()\n",
    "\n",
    "r.fit(x_train,y_train)"
   ]
  },
  {
   "cell_type": "code",
   "execution_count": 999,
   "id": "eafa014c",
   "metadata": {},
   "outputs": [],
   "source": [
    "# print(x_train.shape,x_test.shape,y_train.shape,y_test.shape)\n"
   ]
  },
  {
   "cell_type": "code",
   "execution_count": 1000,
   "id": "5bd430d0",
   "metadata": {},
   "outputs": [
    {
     "data": {
      "image/png": "[encoded data removed]",
      "text/plain": [
       "<Figure size 432x288 with 1 Axes>"
      ]
     },
     "metadata": {
      "needs_background": "light"
     },
     "output_type": "display_data"
    }
   ],
   "source": [
    "plt.scatter(x_test[:,0],y_test,color='red')\n",
    "plt.scatter(x_test[:,0],r.predict(x_test),color='blue')\n",
    "plt.title('Salary vs Experience(Training Set)')\n",
    "plt.xlabel('Year of Experience')\n",
    "plt.ylabel('Salary')\n",
    "plt.show()\n",
    "# plt.scatter(x_test[:,0], y_test, color='red')\n",
    "# plt.scatter(x_test[:,0],pol_reg.predict(poly_reg.fit_transform(x_test)), color='blue')\n",
    "# plt.title(' (Linear Regression)')\n",
    "# plt.xlabel('days')\n",
    "# plt.ylabel('feed')\n",
    "# plt.show()"
   ]
  },
  {
   "cell_type": "code",
   "execution_count": 987,
   "id": "8e556ed1",
   "metadata": {},
   "outputs": [
    {
     "name": "stdout",
     "output_type": "stream",
     "text": [
      "The accuracy of our model is 90.5%\n"
     ]
    }
   ],
   "source": [
    "from sklearn.metrics import r2_score\n",
    "score = r2_score(y_test,pol_reg.predict(poly_reg.fit_transform(x_test)))\n",
    "print(\"The accuracy of our model is {}%\".format(round(score, 3) *100))\n",
    "# from sklearn.metrics import r2_score\n",
    "# score = r2_score( y_test,pol_reg.predict(poly_reg.fit_transform(x_test)))\n",
    "# print(\"The accuracy of our model is {}%\".format(round(score, 3) *100))"
   ]
  },
  {
   "cell_type": "code",
   "execution_count": 988,
   "id": "283726b0",
   "metadata": {},
   "outputs": [
    {
     "name": "stdout",
     "output_type": "stream",
     "text": [
      "The Mean Absolute Error of our Model is 0.33\n"
     ]
    }
   ],
   "source": [
    "from sklearn.metrics import mean_absolute_error\n",
    "score = mean_absolute_error(y_test,pol_reg.predict(poly_reg.fit_transform(x_test)))\n",
    "print(\"The Mean Absolute Error of our Model is {}\".format(round(score, 2)))"
   ]
  },
  {
   "cell_type": "code",
   "execution_count": 989,
   "id": "736ec725",
   "metadata": {},
   "outputs": [
    {
     "name": "stdout",
     "output_type": "stream",
     "text": [
      "The Mean Absolute Error of our Model is 0.57\n"
     ]
    }
   ],
   "source": [
    "from sklearn.metrics import mean_squared_error\n",
    "import numpy as np\n",
    "score = np.sqrt(mean_absolute_error(y_test,pol_reg.predict(poly_reg.fit_transform(x_test))))\n",
    "print(\"The Mean Absolute Error of our Model is {}\".format(round(score, 2)))\n"
   ]
  },
  {
   "cell_type": "code",
   "execution_count": 990,
   "id": "68005958",
   "metadata": {},
   "outputs": [
    {
     "name": "stdout",
     "output_type": "stream",
     "text": [
      "Root Mean Square Error:\n",
      "\n",
      "0.7564186934138736\n"
     ]
    }
   ],
   "source": [
    "RMSE = math.sqrt(score)\n",
    "print(\"Root Mean Square Error:\\n\")\n",
    "print(RMSE)"
   ]
  },
  {
   "cell_type": "code",
   "execution_count": 1001,
   "id": "a6abc342",
   "metadata": {},
   "outputs": [
    {
     "name": "stdout",
     "output_type": "stream",
     "text": [
      "The accuracy of our model is 88.5%\n"
     ]
    }
   ],
   "source": [
    "from sklearn.metrics import r2_score\n",
    "score = r2_score( y_test,r.predict(x_test))\n",
    "print(\"The accuracy of our model is {}%\".format(round(score, 3) *100))"
   ]
  },
  {
   "cell_type": "code",
   "execution_count": 1002,
   "id": "bd2b4c7f",
   "metadata": {},
   "outputs": [
    {
     "name": "stdout",
     "output_type": "stream",
     "text": [
      "The Mean Absolute Error of our Model is 0.26\n"
     ]
    }
   ],
   "source": [
    "from sklearn.metrics import mean_absolute_error\n",
    "score = mean_absolute_error(y_test,r.predict(x_test))\n",
    "print(\"The Mean Absolute Error of our Model is {}\".format(round(score, 2)))"
   ]
  },
  {
   "cell_type": "code",
   "execution_count": 1003,
   "id": "9b5c7fe1",
   "metadata": {},
   "outputs": [
    {
     "name": "stdout",
     "output_type": "stream",
     "text": [
      "The Mean Absolute Error of our Model is 0.51\n"
     ]
    }
   ],
   "source": [
    "from sklearn.metrics import mean_squared_error\n",
    "import numpy as np\n",
    "score = np.sqrt(mean_absolute_error(y_test,r.predict(x_test)))\n",
    "print(\"The Mean Absolute Error of our Model is {}\".format(round(score, 2)))\n"
   ]
  },
  {
   "cell_type": "code",
   "execution_count": null,
   "id": "5a3af98e",
   "metadata": {},
   "outputs": [],
   "source": []
  },
  {
   "cell_type": "code",
   "execution_count": null,
   "id": "23ae6aba",
   "metadata": {},
   "outputs": [],
   "source": []
  }
 ],
 "metadata": {
  "kernelspec": {
   "display_name": "Python 3 (ipykernel)",
   "language": "python",
   "name": "python3"
  },
  "language_info": {
   "codemirror_mode": {
    "name": "ipython",
    "version": 3
   },
   "file_extension": ".py",
   "mimetype": "text/x-python",
   "name": "python",
   "nbconvert_exporter": "python",
   "pygments_lexer": "ipython3",
   "version": "3.9.7"
  }
 },
 "nbformat": 4,
 "nbformat_minor": 5
}
